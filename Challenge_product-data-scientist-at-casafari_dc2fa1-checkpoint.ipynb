{
 "cells": [
  {
   "cell_type": "markdown",
   "metadata": {
    "colab_type": "text",
    "id": "LT_oz7zmYwoL"
   },
   "source": [
    "# Data Extraction (CSS + REGEX)\n",
    "\n",
    "Casafari tracks the entire real estate market by aggregating properties from thousands of different websites. The first step of this process is to collect all the relevant information using web crawlers. This task will give a brief overview of how this extraction is made. \n",
    "\n",
    "The task consists of 3 parts, which will evaluate your skills in CSS3 selectors and regular expressions knowledge, which are essential to data extraction processes. We believe that even if you do not have previous knowledge of CSS, HTML and REGEX, you should be able to complete this task in less than a hour. There are many tutorials and informations on how to use CSS3 selectors and regular expressions to extract data. Do not be afraid to google it! This task is also a evaluation of your learning capabilities.\n",
    "\n",
    "The normal questions already have some examples and can be solved only by filling the CSS3 selectors or the regular expressions in the given space. You can check if you have the correct results by running the pre-made script after it. However, if you feel comfortable, you can use another python package and rewrite the script in a similar way to extract the data.\n",
    "\n",
    "For the extra challenges, you'll need to construct the scripts from scratch."
   ]
  },
  {
   "cell_type": "markdown",
   "metadata": {
    "colab_type": "text",
    "id": "D58kOtOXjrR7"
   },
   "source": [
    "__(1)__ For the following task, use the _listing.html_ file, which represents a listings for a property. Open the HTML file on your browser, investigate it with the Inspect tool, view the source code and explore it. \n",
    "After that, fill the CSS3 selectors in the following script to extract the following information about this property:\n",
    "\n",
    "* Number of bathrooms\n",
    "* Number of bedrooms\n",
    "* Living Area\n",
    "* Energy Rating\n",
    "* Description\n",
    "* Agent Name\n",
    "* Extract the location of the property"
   ]
  },
  {
   "cell_type": "code",
   "execution_count": 1,
   "metadata": {
    "colab": {},
    "colab_type": "code",
    "id": "_ubceG6_rEek"
   },
   "outputs": [
    {
     "name": "stdout",
     "output_type": "stream",
     "text": [
      "Requirement already satisfied: lxml in c:\\users\\imen\\downloads\\wpy-3662\\python-3.6.6.amd64\\lib\\site-packages (4.2.4)\n",
      "Requirement already satisfied: cssselect in c:\\users\\imen\\downloads\\wpy-3662\\python-3.6.6.amd64\\lib\\site-packages (1.0.3)\n"
     ]
    }
   ],
   "source": [
    "!pip install lxml\n",
    "!pip install cssselect"
   ]
  },
  {
   "cell_type": "code",
   "execution_count": 2,
   "metadata": {
    "colab": {},
    "colab_type": "code",
    "id": "Cqba2Ye43Hyy"
   },
   "outputs": [],
   "source": [
    "# EXAMPLE SELECTOR TO EXTRACT THE PROPERTY TYPE\n",
    "Selector_Example = \"h1.lbl_titulo\""
   ]
  },
  {
   "cell_type": "code",
   "execution_count": 3,
   "metadata": {
    "colab": {},
    "colab_type": "code",
    "id": "-UYR51QwrYWW"
   },
   "outputs": [
    {
     "name": "stdout",
     "output_type": "stream",
     "text": [
      "Example -> Property type: 3 Bedroom House\n"
     ]
    }
   ],
   "source": [
    "# EXAMPLE CODE, RUN TO CHECK THE EXAMPLE SELECTOR \n",
    "\n",
    "from lxml import html,etree\n",
    "\n",
    "with open(r'listing.html', \"r\") as f:\n",
    "    page = f.read()\n",
    "tree = html.fromstring(page)\n",
    "\n",
    "print('Example -> Property type: {}'.format(tree.cssselect(Selector_Example)[0].text))"
   ]
  },
  {
   "cell_type": "markdown",
   "metadata": {
    "colab_type": "text",
    "id": "M7MJswrmP89Z"
   },
   "source": [
    "Now that you understand the example, just fill the CSS selectors here and check it by running the below cells:"
   ]
  },
  {
   "cell_type": "code",
   "execution_count": 4,
   "metadata": {
    "colab": {},
    "colab_type": "code",
    "id": "o-2ra_gioTOy"
   },
   "outputs": [],
   "source": [
    "############## Q1 ANSWERS ##################\n",
    "Selector_1 = \".bloco-dados li:nth-child(4) span\"\n",
    "Selector_2 = \".bloco-dados li:nth-child(5) span\"\n",
    "Selector_3 = \".bloco-dados li:nth-child(2) span\"\n",
    "Selector_4 = \".bloco-dados li:nth-child(6) span\"\n",
    "Selector_5 = \".bloco-imovel-texto p \"\n",
    "Selector_6 = \".lbl_titulo\"\n",
    "Selector_7 = \"#Cpl_lbl_morada\""
   ]
  },
  {
   "cell_type": "code",
   "execution_count": 5,
   "metadata": {
    "colab": {},
    "colab_type": "code",
    "id": "AaJuBU1nqsub"
   },
   "outputs": [
    {
     "name": "stdout",
     "output_type": "stream",
     "text": [
      "Bathrooms:  1 \n",
      "\n",
      "Bedrooms:  2 \n",
      "\n",
      "Total area:  80 m\n",
      "\n",
      "Living area:  C\n",
      "\n",
      "Description: At vero eos et accusamus et iusto odio dignissimos ducimus qui blanditiis praesentium voluptatum deleniti atque corrupti quos dolores et quas molestias excepturi sint occaecati cupiditate non provident, similique sunt in culpa qui officia deserunt mollitia animi, id est laborum et dolorum fugaEt harum quidem rerum facilis est et expedita distinctio.Nam libero tempore, cum soluta nobis est eligendi optio cumque nihil impedit quo minus id quod maxime placeat facere possimus, omnis voluptas assumenda est, omnis dolor repellendus.\n",
      "\n",
      "Agent name: 3 Bedroom House\n",
      "\n",
      "Location: Portugal, Lisboa, Estrela, Lapa\n"
     ]
    }
   ],
   "source": [
    "############### RUN TO CHECK YOUR ANSWERS ##################\n",
    "print('Bathrooms: {}'.format(tree.cssselect(Selector_1)[0].text))\n",
    "print('')\n",
    "print('Bedrooms: {}'.format(tree.cssselect(Selector_2)[0].text))\n",
    "print('')\n",
    "print('Total area: {}'.format(tree.cssselect(Selector_3)[0].text))\n",
    "print('')\n",
    "print('Living area: {}'.format(tree.cssselect(Selector_4)[0].text))\n",
    "print('')\n",
    "print('Description: {}'.format(tree.cssselect(Selector_5)[0].text))\n",
    "print('')\n",
    "print('Agent name: {}'.format(tree.cssselect(Selector_6)[0].text))\n",
    "print('')\n",
    "print('Location: {}'.format(tree.cssselect(Selector_7)[0].text))"
   ]
  },
  {
   "cell_type": "markdown",
   "metadata": {
    "colab_type": "text",
    "id": "__U3ndDeRbt6"
   },
   "source": [
    "__Extra Challenge 1__:\n",
    "\n",
    "Write from scratch a script to extract and print:\n",
    "* One link that leads to http://mydomain.com/link-to-image\n",
    "* Extract all the features of the property"
   ]
  },
  {
   "cell_type": "code",
   "execution_count": 538,
   "metadata": {
    "colab": {},
    "colab_type": "code",
    "id": "iLmuSkUFR-LA"
   },
   "outputs": [],
   "source": [
    "############### WRITE THE SCRIPT TO SOLVE THE EXTRA CHALLENGE HERE ##################"
   ]
  },
  {
   "cell_type": "markdown",
   "metadata": {
    "colab_type": "text",
    "id": "5CX07lJog1Jv"
   },
   "source": [
    "__(2)__ In the second part you will still have to use the html file. However, this time, you should use regular expressions to extract the following data from the webpage:\n",
    "\n",
    "* Urls that are links to listings (i.e.: http://mydomain.com/link-to-listing). Do not use the whole url itself in regular expression. It should select only 3 links.\n",
    "* The agent telephone number\n",
    "* The property price"
   ]
  },
  {
   "cell_type": "code",
   "execution_count": 6,
   "metadata": {
    "colab": {},
    "colab_type": "code",
    "id": "ANpQ4SvPSvpg"
   },
   "outputs": [],
   "source": [
    "# REGEXP EXAMPLE TO EXTRACT THE AGENT EMAIL\n",
    "Regexp_Example = r\"\\\">(.*?@.*?)<\""
   ]
  },
  {
   "cell_type": "code",
   "execution_count": 7,
   "metadata": {
    "colab": {},
    "colab_type": "code",
    "id": "6mPc9TCF2jOx"
   },
   "outputs": [
    {
     "name": "stdout",
     "output_type": "stream",
     "text": [
      "Email extracted: casatest@casa.pt\n"
     ]
    }
   ],
   "source": [
    "# RUN TO CHECK THE EXAMPLE RESULTS\n",
    "import re\n",
    "\n",
    "with open(r'listing.html', \"r\") as f:\n",
    "    page = f.read()\n",
    "\n",
    "print(\"Email extracted: {}\".format(re.findall(Regexp_Example, page)[0]))"
   ]
  },
  {
   "cell_type": "code",
   "execution_count": 54,
   "metadata": {
    "colab": {},
    "colab_type": "code",
    "id": "6z_yGAIm8uyC"
   },
   "outputs": [],
   "source": [
    "# WRITE YOUR REGULAR EXPRESSIONS HERE\n",
    "Regexp_1 = r\"(?P<url>http://[\\S]+\\blisting\\b)\"\n",
    "Regexp_2 = r\"\\d{4}-\\d{4}\"\n",
    "Regexp_3 = r\"(\\d+.\\d+.\\d+)\\s\" #this library 're' doesn't support unicode symbols like \"€\""
   ]
  },
  {
   "cell_type": "code",
   "execution_count": 55,
   "metadata": {
    "colab": {},
    "colab_type": "code",
    "id": "nRZMlLL8r0Pc"
   },
   "outputs": [
    {
     "name": "stdout",
     "output_type": "stream",
     "text": [
      "Links extrated:\n",
      "http://mydomain.com/link-to-listing\n",
      "http://mydomain.com/link-to-listing\n",
      "http://mydomain.com/link-to-listing\n",
      "\n",
      "Agent Phone Number: 0800-1111\n",
      "\n",
      "Property price: 1.500.000\n"
     ]
    }
   ],
   "source": [
    "############### RUN TO CHECK YOUR ANSWERS ##################\n",
    "print('Links extrated:')\n",
    "for w in re.findall(Regexp_1, page):\n",
    "  print(w)\n",
    "print('')\n",
    "print(\"Agent Phone Number: {}\".format(re.findall(Regexp_2, page)[0]))\n",
    "print('')\n",
    "print(\"Property price: {}\".format(re.findall(Regexp_3, page)[0]))"
   ]
  },
  {
   "cell_type": "markdown",
   "metadata": {
    "colab_type": "text",
    "id": "o4DbKPVDSk8w"
   },
   "source": [
    "__Extra Challenge 2:__\n",
    "* Extract latitude and longitude value from html ()_those values are in the html code, but are not shown on the page__)"
   ]
  },
  {
   "cell_type": "code",
   "execution_count": 58,
   "metadata": {
    "colab": {},
    "colab_type": "code",
    "id": "o5AylkERSo6F"
   },
   "outputs": [
    {
     "name": "stdout",
     "output_type": "stream",
     "text": [
      "latitude and longitude: ['36.5194999,-4.7743365']\n"
     ]
    }
   ],
   "source": [
    "Regexp_4 = r\"[0-9.-]+,[0-9.-]+\"\n",
    "print(\"latitude and longitude: {}\".format(re.findall(Regexp_4, page)))"
   ]
  },
  {
   "cell_type": "markdown",
   "metadata": {
    "colab_type": "text",
    "id": "DxAqykAnY22Q"
   },
   "source": [
    "__(3)__ For the last task,  use the *sample.json* file. This file contains JSON that has a list of objects inside. Open the file in a code editor, try to identify some pattern on it and check it's structure first. Each object is under unique ID: \n",
    "\n",
    "\n",
    "\n",
    "\n",
    "{ \n",
    "\n",
    "\"SV350\": { ... // data, describing the object ... }, \n",
    "\n",
    "\"fKDFI3\": { ... // data, describing the object ... },\n",
    "\n",
    "...\n",
    "\n",
    "\"38shF\": { ... // data, describing the object ... } \n",
    "\n",
    "}\n",
    "\n",
    "\n",
    "\n",
    "\n",
    "Therefore, you need to write one regular expression to extract the following information:\n",
    "* Every unique ID on this file (for example, the first unique ID should be NC065 and the last should be NN574). \n",
    "\n",
    "Hint: The length of your list should be 211"
   ]
  },
  {
   "cell_type": "code",
   "execution_count": 11,
   "metadata": {
    "colab": {},
    "colab_type": "code",
    "id": "VPI6oVuXURc7"
   },
   "outputs": [],
   "source": [
    "# WRITE YOUR REGULAR EXPRESSION HERE\n",
    "Regexp_JSON = r\"(?<=\\\")[A-Z0-9]+(?=\\\":{)\""
   ]
  },
  {
   "cell_type": "code",
   "execution_count": 12,
   "metadata": {
    "colab": {},
    "colab_type": "code",
    "id": "Sa6N56T4kBx7"
   },
   "outputs": [
    {
     "name": "stdout",
     "output_type": "stream",
     "text": [
      "----- Expressions extracted -----\n",
      "First unique id: NC065\n",
      "Last unique id: NN574\n",
      "Length of list of unique ids: 211\n"
     ]
    }
   ],
   "source": [
    "with open(r'Challenge_product-data-scientist-at-casafari_9e06f8.json', \"r\") as f:\n",
    "    json = f.read()\n",
    "\n",
    "print('----- Expressions extracted -----')\n",
    "print(\"First unique id: {}\".format(re.findall(Regexp_JSON, json)[0]))\n",
    "print(\"Last unique id: {}\".format(re.findall(Regexp_JSON, json)[-1]))\n",
    "print(\"Length of list of unique ids: {}\".format(len(re.findall(Regexp_JSON, json)), json))"
   ]
  },
  {
   "cell_type": "markdown",
   "metadata": {
    "colab_type": "text",
    "id": "yL20DRtYTuc3"
   },
   "source": [
    "**Extra Challenge 3:**\n",
    "* Extract all unique IDs that has the expression _\"land\":\"ESP\"_ inside (for example, the object SV350 has this expression inside it)."
   ]
  },
  {
   "cell_type": "code",
   "execution_count": null,
   "metadata": {
    "colab": {},
    "colab_type": "code",
    "id": "3waNjkEUTr_t"
   },
   "outputs": [],
   "source": [
    "############### WRITE THE SCRIPT TO SOLVE THE EXTRA CHALLENGE HERE ##################"
   ]
  },
  {
   "cell_type": "markdown",
   "metadata": {
    "colab_type": "text",
    "id": "YwNzVMIwadT-"
   },
   "source": [
    "# Data Querying (SQL)\n",
    "\n",
    "You have now collected the data, and cleaned it.  It was published in Casafari database and you have to query the data in order to prepare it for analysis. \n",
    "\n",
    "To solve this problem consider the data set provided in _properties.csv_ and _agents.csv_ to test your queries. As before, please fill in your queries in the cells provided (double click the blank cells to fill them in). \n",
    "\n",
    "In this task we just want to evaluate your knowledge of SQL syntax, so keep it simple. Do not try to overclean the data in this task. You'll get to do this on the next task with Python.\n",
    "\n",
    "###Schemas:\n",
    "- PROPERTIES table: \n",
    "  - **id**(PK, INT) - unique identification number of the property ad listing\n",
    "  - **title**(VARCHAR) - title of the property ad listing\n",
    "  - **features**(VARCHAR) - field with additional characteristics of the property ad listing\n",
    "  - **living_area**(FLOAT) - living area of the property in square meters\n",
    "  - **total_area**(FLOAT)- total area of the property in square meters\n",
    "   - **plot_area**(FLOAT) - plot area of the property in square meters\n",
    "  - **price**(FLOAT) - selling price of the property in euros\n",
    "  - **agent_id**(INT) - selling agent id\n",
    "  - **createdAt**(DATE) - date in which the property was added to the market\n",
    "- AGENTS table: \n",
    "  - **agent_id**(PK, INT) - selling agent id\n",
    "  - **company**(VARCHAR) - company for which the agent works\n",
    "\n",
    "###Details of properties:\n",
    "- **locations** can be: Alenquer, Quinta da Marinha, Golden Mile, Nagüeles;\n",
    "- **types** can be: ‘apartment’, ‘penthouse’, ‘duplex’, ‘house’, ‘villa’, ‘country estate’,‘moradia', ‘quinta', ‘plot’, ‘land’; \n",
    "- the property types can be part of the following **property groups**:\n",
    "  1. group **‘apartments’** includes types ‘apartment’, ‘penthouse’, ‘duplex’;\n",
    "  2. group **‘‘houses’**‘ includes types ‘house’, ‘villa’, ‘country estate’, ‘moradia', ‘quinta’;\n",
    "  3. group **‘‘plots’**‘ includes types ’plot’, ‘land’.\n",
    "- areas:\n",
    " - for the group **‘plots’** use **plot_area**;\n",
    " - for groups **‘apartments’** and **‘houses’** use the highest value between **total_area** or **living_area**;\n",
    "\n",
    "\n",
    "###Questions:\n",
    "- (Q1) Write a query to extract only listings with a property type “quinta” or “house”;\n",
    "- (Q2) Write a query to extract only listings of properties with a pool;\n",
    "- (Q3) Write a query calculating the average price per square meter of all apartments in Nagüeles.\n",
    "- (Q4) Write a query to identify top 3 companies with largest amount of properties\n",
    "- (Q5) Identify top 3 agents by number of properties within each company\n",
    "\n",
    "\n",
    "####HINT:\n",
    "- Check the csv for these 2 parts. Location names and property type can be found within the title. Be aware of possible traps.\n"
   ]
  },
  {
   "cell_type": "markdown",
   "metadata": {
    "colab_type": "text",
    "id": "ZMiufR188DzQ"
   },
   "source": [
    "Query 1:\n",
    "```**mysql**\n",
    "SELECT *\n",
    "FROM ./properties.csv \n",
    "WHERE ((title LIKE  'house %') \n",
    "OR (title LIKE '% house %') \n",
    "OR (title LIKE '%quinta%')) \n",
    "AND (title NOT LIKE '%marinha%')\n",
    "\n",
    "```"
   ]
  },
  {
   "cell_type": "markdown",
   "metadata": {
    "colab_type": "text",
    "id": "RB-PnF489SmC"
   },
   "source": [
    "Query 2:\n",
    "``` **mysql**\n",
    "\n",
    "SELECT *\n",
    "FROM ./properties.csv  \n",
    "WHERE features LIKE '%pool%' \n",
    "OR features LIKE '%piscina%'\n",
    "\n",
    "\n",
    "```"
   ]
  },
  {
   "cell_type": "markdown",
   "metadata": {
    "colab_type": "text",
    "id": "lgzd0mTe9U9O"
   },
   "source": [
    "Query 3:\n",
    "``` **mysql**\n",
    "SELECT avg(price) \n",
    "FROM ./properties.csv \n",
    "WHERE title LIKE '%apartment%' \n",
    "AND title LIKE '%nag_eles%'\n",
    "\n",
    "```"
   ]
  },
  {
   "cell_type": "markdown",
   "metadata": {
    "colab_type": "text",
    "id": "aO_r3o7a9W0t"
   },
   "source": [
    "Query 4:\n",
    "``` **mysql**\n",
    "\n",
    "SELECT company \n",
    "FROM ./agents.csv \n",
    "WHERE agent_id IN \n",
    "    (\n",
    "        SELECT agent_id \n",
    "        FROM ./properties.csv \n",
    "        GROUP BY agent_id \n",
    "        ORDER BY SUM(price) \n",
    "        DESC LIMIT 3\n",
    "    )\n",
    "\n",
    "```"
   ]
  },
  {
   "cell_type": "markdown",
   "metadata": {
    "colab_type": "text",
    "id": "Kp0_Ugcs9Y-Y"
   },
   "source": [
    "Query 5:\n",
    "``` **mysql**\n",
    "SELECT a0.company, p0.agent_id\n",
    "FROM agents a0\n",
    "INNER JOIN properties p0 ON (a0.agent_id=p0.agent_id) \n",
    "GROUP BY p0.agent_id \n",
    "HAVING count(id) > (\n",
    "    SELECT COUNT(id)\n",
    "    FROM properties p\n",
    "    INNER JOIN agents a\n",
    "    ON (p.agent_id=a.agent_id)\n",
    "    WHERE a.company=a0.company\n",
    "    GROUP BY p.agent_id  \n",
    "    ORDER BY COUNT(id)  DESC\n",
    "    LIMIT 2,1\n",
    "    )\n",
    "ORDER by company,count(id) DESC\n",
    "\n",
    "```"
   ]
  },
  {
   "cell_type": "markdown",
   "metadata": {
    "colab_type": "text",
    "id": "_b76pb1YYc5B"
   },
   "source": [
    "**Extra challenge 4:**\n",
    "- (Q6) Write a query to identify companies with most expensive properties for each month in 2017\n",
    "- (Q7) Write a query to get first and last property posted by each company"
   ]
  },
  {
   "cell_type": "markdown",
   "metadata": {
    "colab_type": "text",
    "id": "LvSED0f19anR"
   },
   "source": [
    "Query 6:\n",
    "``` **mysql**\n",
    "\n",
    "\n",
    "\n",
    "\n",
    "\n",
    "```"
   ]
  },
  {
   "cell_type": "markdown",
   "metadata": {
    "colab_type": "text",
    "id": "bz3NC48O9cfa"
   },
   "source": [
    "Query 7:\n",
    "``` **mysql**\n",
    "\n",
    "\n",
    "\n",
    "\n",
    "\n",
    "```"
   ]
  },
  {
   "cell_type": "markdown",
   "metadata": {
    "colab_type": "text",
    "id": "D6n6ZF7VahF3"
   },
   "source": [
    "# Data Analysis (Python)\n",
    "\n",
    "\n",
    "You obtained all the data that you need and you now need to run an analysis on the following problem. For this part, feel free to use as many cells as you need below this point. Please use properties.csv as your data source. \n",
    "\n",
    "\n",
    "\n",
    "## Problem \n",
    "A private investor is planning an investment in one of the four locations. In order to decide where to invest he needs to know the price impact of such features as ‘pool’, ‘sea view’ and ‘garage’ on properties in each location.\n",
    "He also asks for the mean price of the properties in each type group (‘apartments’, ‘houses’, ‘plots’) and wants to know about properties in the market that are undervalued and overvalued. In order to accomplish the problem that was described we want you to cover the following steps:\n",
    "\n",
    "####Part 1: Data Cleaning\n",
    "As you have seen previously, a lot of information is present in the title/features fields. From there, we want to extract the relevant information for further analysis, such as:\n",
    " - 1A: Property  **type** (as presented in **Details** above, described in the SQL section) of each property from **title** field\n",
    " - 1B: Property **location** (as presented in **Details** above, described in the SQL section) of each property from ** title** field\n",
    " - 1C: From ** features** field, if a property has:\n",
    "  - a pool\n",
    "  - a garage\n",
    "  - sea view\n",
    "\n",
    "####Expected Outcome for Part 1:\n",
    "- Create a property dataset with the following schema and save it in a csv file:\n",
    "  - id; \n",
    "  - location name\n",
    "  - type\n",
    "  - title\n",
    "  - features\n",
    "  - pool (0/1)\n",
    "  - sea view (0/1)\n",
    "  - garage (0/1)\n",
    "- Pool, sea view and garage should be binary:1 if the property has the feature and 0 if not\n",
    "- For each of the 3 tasks (1A, 1B, 1C), describe in detail the what you did. What are the advantages and disadvantages of your approach?\n",
    "-  Please provide your code in the cells below, in a reproducible and understandable way;"
   ]
  },
  {
   "cell_type": "code",
   "execution_count": 1,
   "metadata": {},
   "outputs": [
    {
     "data": {
      "text/html": [
       "<div>\n",
       "<style scoped>\n",
       "    .dataframe tbody tr th:only-of-type {\n",
       "        vertical-align: middle;\n",
       "    }\n",
       "\n",
       "    .dataframe tbody tr th {\n",
       "        vertical-align: top;\n",
       "    }\n",
       "\n",
       "    .dataframe thead th {\n",
       "        text-align: right;\n",
       "    }\n",
       "</style>\n",
       "<table border=\"1\" class=\"dataframe\">\n",
       "  <thead>\n",
       "    <tr style=\"text-align: right;\">\n",
       "      <th></th>\n",
       "      <th>id</th>\n",
       "      <th>title</th>\n",
       "      <th>features</th>\n",
       "    </tr>\n",
       "  </thead>\n",
       "  <tbody>\n",
       "    <tr>\n",
       "      <th>0</th>\n",
       "      <td>44525</td>\n",
       "      <td>Stunning 6 bedroom villa in the heart of the G...</td>\n",
       "      <td>NaN</td>\n",
       "    </tr>\n",
       "    <tr>\n",
       "      <th>1</th>\n",
       "      <td>44859</td>\n",
       "      <td>Villa for sale in Rocio de Nagüeles, Marbella ...</td>\n",
       "      <td>NaN</td>\n",
       "    </tr>\n",
       "    <tr>\n",
       "      <th>2</th>\n",
       "      <td>45465</td>\n",
       "      <td>One level 5 bedroom villa for sale in Nagüeles</td>\n",
       "      <td>NaN</td>\n",
       "    </tr>\n",
       "    <tr>\n",
       "      <th>3</th>\n",
       "      <td>50685</td>\n",
       "      <td>Large estate for sale in Rocio de Nagueles</td>\n",
       "      <td>NaN</td>\n",
       "    </tr>\n",
       "    <tr>\n",
       "      <th>4</th>\n",
       "      <td>130728</td>\n",
       "      <td>Palatial Villa on Marbellas Golden Mile with ...</td>\n",
       "      <td>Fireplace, Elevator, Terrace, Mountain view, F...</td>\n",
       "    </tr>\n",
       "  </tbody>\n",
       "</table>\n",
       "</div>"
      ],
      "text/plain": [
       "       id                                              title  \\\n",
       "0   44525  Stunning 6 bedroom villa in the heart of the G...   \n",
       "1   44859  Villa for sale in Rocio de Nagüeles, Marbella ...   \n",
       "2   45465     One level 5 bedroom villa for sale in Nagüeles   \n",
       "3   50685         Large estate for sale in Rocio de Nagueles   \n",
       "4  130728  Palatial Villa on Marbellas Golden Mile with ...   \n",
       "\n",
       "                                            features  \n",
       "0                                                NaN  \n",
       "1                                                NaN  \n",
       "2                                                NaN  \n",
       "3                                                NaN  \n",
       "4  Fireplace, Elevator, Terrace, Mountain view, F...  "
      ]
     },
     "execution_count": 1,
     "metadata": {},
     "output_type": "execute_result"
    }
   ],
   "source": [
    "import pandas as pd\n",
    "import numpy as np\n",
    "import re\n",
    "#Clean unused data\n",
    "Dataset1=pd.read_csv('properties.csv')\n",
    "Dataset=Dataset1\n",
    "Dataset=Dataset.drop(['living_area'],axis=1)\n",
    "Dataset=Dataset.drop(['total_area'],axis=1)\n",
    "Dataset=Dataset.drop(['plot_area'],axis=1)\n",
    "Dataset=Dataset.drop(['price'],axis=1)\n",
    "Dataset=Dataset.drop(['agent_id'],axis=1)\n",
    "Dataset=Dataset.drop(['created_at'],axis=1)\n",
    "#display dataset\n",
    "Dataset.head(5)"
   ]
  },
  {
   "cell_type": "code",
   "execution_count": 2,
   "metadata": {},
   "outputs": [
    {
     "data": {
      "text/html": [
       "<div>\n",
       "<style scoped>\n",
       "    .dataframe tbody tr th:only-of-type {\n",
       "        vertical-align: middle;\n",
       "    }\n",
       "\n",
       "    .dataframe tbody tr th {\n",
       "        vertical-align: top;\n",
       "    }\n",
       "\n",
       "    .dataframe thead th {\n",
       "        text-align: right;\n",
       "    }\n",
       "</style>\n",
       "<table border=\"1\" class=\"dataframe\">\n",
       "  <thead>\n",
       "    <tr style=\"text-align: right;\">\n",
       "      <th></th>\n",
       "      <th>id</th>\n",
       "      <th>title</th>\n",
       "      <th>features</th>\n",
       "      <th>type</th>\n",
       "      <th>location_name</th>\n",
       "    </tr>\n",
       "  </thead>\n",
       "  <tbody>\n",
       "    <tr>\n",
       "      <th>0</th>\n",
       "      <td>44525</td>\n",
       "      <td>Stunning 6 bedroom villa in the heart of the G...</td>\n",
       "      <td>NaN</td>\n",
       "      <td>[villa]</td>\n",
       "      <td>[Golden Mile]</td>\n",
       "    </tr>\n",
       "    <tr>\n",
       "      <th>1</th>\n",
       "      <td>44859</td>\n",
       "      <td>Villa for sale in Rocio de Nagüeles, Marbella ...</td>\n",
       "      <td>NaN</td>\n",
       "      <td>[Villa]</td>\n",
       "      <td>[Golden Mile, Nagüeles]</td>\n",
       "    </tr>\n",
       "    <tr>\n",
       "      <th>2</th>\n",
       "      <td>45465</td>\n",
       "      <td>One level 5 bedroom villa for sale in Nagüeles</td>\n",
       "      <td>NaN</td>\n",
       "      <td>[villa]</td>\n",
       "      <td>[Nagüeles]</td>\n",
       "    </tr>\n",
       "    <tr>\n",
       "      <th>3</th>\n",
       "      <td>50685</td>\n",
       "      <td>Large estate for sale in Rocio de Nagueles</td>\n",
       "      <td>NaN</td>\n",
       "      <td>[]</td>\n",
       "      <td>[]</td>\n",
       "    </tr>\n",
       "    <tr>\n",
       "      <th>4</th>\n",
       "      <td>130728</td>\n",
       "      <td>Palatial Villa on Marbellas Golden Mile with ...</td>\n",
       "      <td>Fireplace, Elevator, Terrace, Mountain view, F...</td>\n",
       "      <td>[Villa]</td>\n",
       "      <td>[Golden Mile]</td>\n",
       "    </tr>\n",
       "  </tbody>\n",
       "</table>\n",
       "</div>"
      ],
      "text/plain": [
       "       id                                              title  \\\n",
       "0   44525  Stunning 6 bedroom villa in the heart of the G...   \n",
       "1   44859  Villa for sale in Rocio de Nagüeles, Marbella ...   \n",
       "2   45465     One level 5 bedroom villa for sale in Nagüeles   \n",
       "3   50685         Large estate for sale in Rocio de Nagueles   \n",
       "4  130728  Palatial Villa on Marbellas Golden Mile with ...   \n",
       "\n",
       "                                            features     type  \\\n",
       "0                                                NaN  [villa]   \n",
       "1                                                NaN  [Villa]   \n",
       "2                                                NaN  [villa]   \n",
       "3                                                NaN       []   \n",
       "4  Fireplace, Elevator, Terrace, Mountain view, F...  [Villa]   \n",
       "\n",
       "             location_name  \n",
       "0            [Golden Mile]  \n",
       "1  [Golden Mile, Nagüeles]  \n",
       "2               [Nagüeles]  \n",
       "3                       []  \n",
       "4            [Golden Mile]  "
      ]
     },
     "execution_count": 2,
     "metadata": {},
     "output_type": "execute_result"
    }
   ],
   "source": [
    "###############type and location#########################\n",
    "locations=['Alenquer', 'Quinta da Marinha', 'Golden Mile', 'Nagüeles']\n",
    "Type=['apartment', 'penthouse', 'duplex', 'house', 'villa', 'country estate','moradia', 'quinta', 'plot', 'land']\n",
    "#define a list of locations to add to the dataset after that\n",
    "list_location=[]\n",
    "for line in Dataset['title']:\n",
    "    #define a temporary list to put in it for each line the list of locations\n",
    "    #Because some properties are available in more than one location\n",
    "    listt=[]\n",
    "    for loc in locations:\n",
    "        x=re.findall(r\"\\b\"+loc,line,re.IGNORECASE)\n",
    "        if x!=[]:\n",
    "            listt.append(x[0])\n",
    "    #now we assign for each line its locations\n",
    "    list_location.append(listt)\n",
    "\n",
    "#define a list of type to add to the dataset after that\n",
    "#the same as the list of locations\n",
    "list_type=[]\n",
    "for line in Dataset['title']:\n",
    "    listt=[]\n",
    "    for t in Type:\n",
    "        x=re.findall(r\"\\b\"+t,line,re.IGNORECASE)\n",
    "        if x!=[]:\n",
    "            listt.append(x[0])\n",
    "    list_type.append(listt)\n",
    "    \n",
    "#Add location and type to the dataset\n",
    "se = pd.Series(list_type)\n",
    "Dataset['type'] = se.values\n",
    "se = pd.Series(list_location)\n",
    "Dataset['location_name'] = se.values\n",
    "Dataset.head(5)"
   ]
  },
  {
   "cell_type": "code",
   "execution_count": 3,
   "metadata": {
    "colab": {},
    "colab_type": "code",
    "id": "SEbVdIgUv0Qk"
   },
   "outputs": [],
   "source": [
    "#################### pool,sea view,garage #########################\n",
    "#replace nan in features with none\n",
    "Dataset= Dataset.replace(np.nan, 'None', regex=True)\n",
    "#Define a function which extract element features from features\n",
    "def element_feature(list_features):\n",
    "    element_list=[]\n",
    "    for line in Dataset['features']:\n",
    "        listt=[]\n",
    "        for t in list_features:\n",
    "            x=re.findall(r\"\\b\"+t,line,re.IGNORECASE)\n",
    "            if x!=[]:\n",
    "                listt.append(x)\n",
    "        element_list.append(listt)\n",
    "    #now we will convert the list to binary\n",
    "    list_bin=[]\n",
    "    for line in element_list:\n",
    "        if line==[]:\n",
    "            list_bin.append(0)\n",
    "        else:\n",
    "            list_bin.append(1)\n",
    "    return list_bin\n",
    "\n",
    "#add element feature to the dataset\n",
    "#I noticed in the first part extra challenge 2 when i determined the lat and long \n",
    "#that those coordinate are in spain so the language of the html and the datasets\n",
    "#should be spanish or english, so i thought that may be some words are written in spanish in\n",
    "#dataset like piscina , so i took this thing in consideration\n",
    "view=['vista marítima','sea view']\n",
    "pool=['piscina','pool']\n",
    "garage=['garage','garaje']\n",
    "#in each element feature i call the routine defined element_feature\n",
    "se1 = pd.Series(element_feature(pool))\n",
    "Dataset['pool'] = se1.values\n",
    "se2 = pd.Series(element_feature(view))\n",
    "Dataset['sea_view'] = se2.values\n",
    "se3 = pd.Series(element_feature(garage))\n",
    "Dataset['garage'] = se3.values\n",
    "Dataset.to_csv('part1.csv')"
   ]
  },
  {
   "cell_type": "markdown",
   "metadata": {
    "colab_type": "text",
    "id": "WS_0w3NAXTZc"
   },
   "source": [
    "####Part 2: Identify outliers\n",
    "Now that the data is structured correctly, let's look at which properties are a  good deal for our investor. For this you will need to** identify undervalued, overvalued, and normal properties** in the dataset. Remember that a  undervalued house in one location can be considered a high outlier in another location. Location and type classifications are important in this task.\n",
    "####Expected Outcome for Part 2:\n",
    "- As before, deliver a csv file with the following format:\n",
    "  - id\n",
    "  - location name\n",
    "  - type\n",
    "  - area\n",
    "  - price\n",
    "  - over-valued (0/1)\n",
    "  - under-valued (0/1)\n",
    "  - normal (0/1)\n",
    "- the new columns should be binary, where for example **over-valued** column would get value 1 if the property is indeed over-valued, 0 otherwise;\n",
    "- A short report (could be a pdf file or new cells within the notebook) containing:\n",
    "  - visualizations (such as scatter plots) discriminating between the undervalued, overvalued and normal properties.\n",
    "  - a explanation of what is the difference between under-valued/over-valued properties and pure data outliers;\n",
    "  - any notes/conclusions you wish to add;\n",
    "- Provide your code in a reproducible way in the cells below;"
   ]
  },
  {
   "cell_type": "code",
   "execution_count": 4,
   "metadata": {},
   "outputs": [
    {
     "data": {
      "text/html": [
       "<div>\n",
       "<style scoped>\n",
       "    .dataframe tbody tr th:only-of-type {\n",
       "        vertical-align: middle;\n",
       "    }\n",
       "\n",
       "    .dataframe tbody tr th {\n",
       "        vertical-align: top;\n",
       "    }\n",
       "\n",
       "    .dataframe thead th {\n",
       "        text-align: right;\n",
       "    }\n",
       "</style>\n",
       "<table border=\"1\" class=\"dataframe\">\n",
       "  <thead>\n",
       "    <tr style=\"text-align: right;\">\n",
       "      <th></th>\n",
       "      <th>id</th>\n",
       "      <th>type</th>\n",
       "      <th>location_name</th>\n",
       "      <th>groups</th>\n",
       "      <th>living_area</th>\n",
       "      <th>total_area</th>\n",
       "      <th>plot_area</th>\n",
       "      <th>price</th>\n",
       "    </tr>\n",
       "  </thead>\n",
       "  <tbody>\n",
       "    <tr>\n",
       "      <th>0</th>\n",
       "      <td>44525</td>\n",
       "      <td>[villa]</td>\n",
       "      <td>[Golden Mile]</td>\n",
       "      <td>houses</td>\n",
       "      <td>NaN</td>\n",
       "      <td>918.0</td>\n",
       "      <td>NaN</td>\n",
       "      <td>4400000</td>\n",
       "    </tr>\n",
       "    <tr>\n",
       "      <th>1</th>\n",
       "      <td>44859</td>\n",
       "      <td>[Villa]</td>\n",
       "      <td>[Golden Mile, Nagüeles]</td>\n",
       "      <td>houses</td>\n",
       "      <td>NaN</td>\n",
       "      <td>NaN</td>\n",
       "      <td>NaN</td>\n",
       "      <td>2400000</td>\n",
       "    </tr>\n",
       "    <tr>\n",
       "      <th>2</th>\n",
       "      <td>45465</td>\n",
       "      <td>[villa]</td>\n",
       "      <td>[Nagüeles]</td>\n",
       "      <td>houses</td>\n",
       "      <td>NaN</td>\n",
       "      <td>393.0</td>\n",
       "      <td>NaN</td>\n",
       "      <td>1900000</td>\n",
       "    </tr>\n",
       "    <tr>\n",
       "      <th>3</th>\n",
       "      <td>50685</td>\n",
       "      <td>[]</td>\n",
       "      <td>[]</td>\n",
       "      <td>[]</td>\n",
       "      <td>0.0</td>\n",
       "      <td>640.0</td>\n",
       "      <td>0.0</td>\n",
       "      <td>4250000</td>\n",
       "    </tr>\n",
       "    <tr>\n",
       "      <th>4</th>\n",
       "      <td>130728</td>\n",
       "      <td>[Villa]</td>\n",
       "      <td>[Golden Mile]</td>\n",
       "      <td>houses</td>\n",
       "      <td>0.0</td>\n",
       "      <td>4903.0</td>\n",
       "      <td>11000.0</td>\n",
       "      <td>32000000</td>\n",
       "    </tr>\n",
       "  </tbody>\n",
       "</table>\n",
       "</div>"
      ],
      "text/plain": [
       "       id     type            location_name  groups  living_area  total_area  \\\n",
       "0   44525  [villa]            [Golden Mile]  houses          NaN       918.0   \n",
       "1   44859  [Villa]  [Golden Mile, Nagüeles]  houses          NaN         NaN   \n",
       "2   45465  [villa]               [Nagüeles]  houses          NaN       393.0   \n",
       "3   50685       []                       []      []          0.0       640.0   \n",
       "4  130728  [Villa]            [Golden Mile]  houses          0.0      4903.0   \n",
       "\n",
       "   plot_area     price  \n",
       "0        NaN   4400000  \n",
       "1        NaN   2400000  \n",
       "2        NaN   1900000  \n",
       "3        0.0   4250000  \n",
       "4    11000.0  32000000  "
      ]
     },
     "execution_count": 4,
     "metadata": {},
     "output_type": "execute_result"
    }
   ],
   "source": [
    "#Determine groups and add a column group to the dataset\n",
    "apartments=['apartment','penthouse','duplex']\n",
    "houses=['house', 'villa', 'country estate', 'moradia', 'quinta']\n",
    "plots=['plot','land']\n",
    "group_type=[]\n",
    "for line in Dataset['type']:\n",
    "    if line!=[]:\n",
    "        listt=[]\n",
    "        for element in line:\n",
    "            element=element.lower()\n",
    "            if element in apartments:\n",
    "                listt.append('apartment')\n",
    "            elif element in houses:\n",
    "                listt.append('houses')\n",
    "            elif element in plots:\n",
    "                listt.append('plots')\n",
    "        group_type.append(listt[0])\n",
    "    else:\n",
    "        group_type.append([])\n",
    "se= pd.Series(group_type)\n",
    "Dataset['groups'] = se.values\n",
    "Dataset=Dataset.drop(['pool'],axis=1)\n",
    "Dataset=Dataset.drop(['sea_view'],axis=1)\n",
    "Dataset=Dataset.drop(['garage'],axis=1)\n",
    "Dataset=Dataset.drop(['features'],axis=1)\n",
    "Dataset=Dataset.drop(['title'],axis=1)\n",
    "Dataset['living_area']=Dataset1['living_area']\n",
    "Dataset['total_area']=Dataset1['total_area']\n",
    "Dataset['plot_area']=Dataset1['plot_area']\n",
    "Dataset['price']=Dataset1['price']\n",
    "Dataset.head(5)"
   ]
  },
  {
   "cell_type": "code",
   "execution_count": 5,
   "metadata": {},
   "outputs": [],
   "source": [
    "#remove nan fields\n",
    "Dataset= Dataset.replace(np.nan, 'None')\n",
    "#define the lists of extracted prices\n",
    "house_prices=[]\n",
    "apartment_prices=[]\n",
    "plots_prices=[]\n",
    "#define areas\n",
    "area_house=[]\n",
    "area_plots=[]\n",
    "area_app=[]\n",
    "#here i will construct lists of area and price of every group\n",
    "for (gp,price,liv,tot,p) in zip(Dataset['groups'],Dataset['price'],Dataset['living_area'],Dataset['total_area'],Dataset['plot_area'] ):\n",
    "    if gp=='houses':\n",
    "        house_prices.append(price)\n",
    "        if liv!='None'and tot!='None':\n",
    "            area_house.append(max(liv,tot))\n",
    "        elif (liv=='None' and tot!='None') :\n",
    "            area_house.append(tot)\n",
    "        elif (liv!='None' and tot=='None'):\n",
    "            area_house.append(liv)\n",
    "        else:\n",
    "            area_house.append(0)            \n",
    "    else:\n",
    "        area_house.append(0)\n",
    "        house_prices.append(0)\n",
    "    if gp=='apartment':\n",
    "        apartment_prices.append(price)\n",
    "        if liv!='None'and tot!='None':\n",
    "            area_app.append(max(liv,tot))\n",
    "        elif (liv=='None' and tot!='None') :\n",
    "            area_app.append(tot)\n",
    "        elif (liv!='None' and tot=='None'):\n",
    "            area_app.append(liv)\n",
    "    else:\n",
    "        area_app.append(0)\n",
    "        apartment_prices.append(0)\n",
    "    if gp=='plots':\n",
    "        plots_prices.append(price)\n",
    "        if p!='None':\n",
    "            area_plots.append(p)\n",
    "    else:\n",
    "        area_plots.append(0)\n",
    "        plots_prices.append(0)\n",
    "area=[x+y+z for x, y,z in zip(area_app, area_house,area_plots)]\n",
    "se = pd.Series(area)\n",
    "Dataset['area'] = se.values"
   ]
  },
  {
   "cell_type": "code",
   "execution_count": 6,
   "metadata": {},
   "outputs": [],
   "source": [
    "#Here i will divide the values of prices by the area to find the unit price\n",
    "#because which matters and to be able to estimate equally we should determine the unit price \n",
    "house_unit_price=[]\n",
    "app_unit_price=[]\n",
    "plot_unit_price=[]\n",
    "for x,y in zip(house_prices,area_house):\n",
    "    if y!=0 :\n",
    "        house_unit_price.append(x/y)\n",
    "    else:\n",
    "        house_unit_price.append(x)\n",
    "for x,y in zip(apartment_prices,area_app):\n",
    "    if y!=0 :\n",
    "        app_unit_price.append(x/y)\n",
    "    else:\n",
    "        app_unit_price.append(x)\n",
    "for x,y in zip(plots_prices,area_plots):\n",
    "    if y!=0 :\n",
    "        plot_unit_price.append(x/y)\n",
    "    else:\n",
    "        plot_unit_price.append(x)"
   ]
  },
  {
   "cell_type": "code",
   "execution_count": 15,
   "metadata": {},
   "outputs": [
    {
     "data": {
      "text/plain": [
       "Text(0.5,1,'Distribution of under_valued prices in group:apartment')"
      ]
     },
     "execution_count": 15,
     "metadata": {},
     "output_type": "execute_result"
    },
    {
     "data": {
      "image/png": "[encoded data removed]",
      "text/plain": [
       "<Figure size 432x288 with 1 Axes>"
      ]
     },
     "metadata": {
      "needs_background": "light"
     },
     "output_type": "display_data"
    },
    {
     "data": {
      "image/png": "[encoded data removed]",
      "text/plain": [
       "<Figure size 432x288 with 1 Axes>"
      ]
     },
     "metadata": {
      "needs_background": "light"
     },
     "output_type": "display_data"
    },
    {
     "data": {
      "image/png": "[encoded data removed]",
      "text/plain": [
       "<Figure size 432x288 with 1 Axes>"
      ]
     },
     "metadata": {
      "needs_background": "light"
     },
     "output_type": "display_data"
    },
    {
     "data": {
      "image/png": "[encoded data removed]",
      "text/plain": [
       "<Figure size 432x288 with 1 Axes>"
      ]
     },
     "metadata": {
      "needs_background": "light"
     },
     "output_type": "display_data"
    },
    {
     "data": {
      "image/png": "[encoded data removed]",
      "text/plain": [
       "<Figure size 432x288 with 1 Axes>"
      ]
     },
     "metadata": {
      "needs_background": "light"
     },
     "output_type": "display_data"
    },
    {
     "data": {
      "image/png": "[encoded data removed]",
      "text/plain": [
       "<Figure size 432x288 with 1 Axes>"
      ]
     },
     "metadata": {
      "needs_background": "light"
     },
     "output_type": "display_data"
    },
    {
     "data": {
      "image/png": "[encoded data removed]",
      "text/plain": [
       "<Figure size 432x288 with 1 Axes>"
      ]
     },
     "metadata": {
      "needs_background": "light"
     },
     "output_type": "display_data"
    },
    {
     "data": {
      "image/png": "[encoded data removed]",
      "text/plain": [
       "<Figure size 432x288 with 1 Axes>"
      ]
     },
     "metadata": {
      "needs_background": "light"
     },
     "output_type": "display_data"
    },
    {
     "data": {
      "image/png": "[encoded data removed]",
      "text/plain": [
       "<Figure size 432x288 with 1 Axes>"
      ]
     },
     "metadata": {
      "needs_background": "light"
     },
     "output_type": "display_data"
    }
   ],
   "source": [
    "#here i will determine a list empty of zeros for each group\n",
    "list_house=[]\n",
    "[list_house.append(x) for x in house_unit_price if x!=0]\n",
    "#mean_houses=np.mean(list_house)\n",
    "list_plot=[]\n",
    "[list_plot.append(x) for x in plot_unit_price if x!=0]\n",
    "#mean_plots=np.mean(list_plot)\n",
    "list_app=[]\n",
    "[list_app.append(x) for x in app_unit_price if x!=0]\n",
    "#mean_apartment=np.mean(list_app)\n",
    "#when I tried to determine the mean of every list I noticed that there are\n",
    "#many high values and low values which will affect the whole mean of the list\n",
    "\n",
    "#As first step I decided to plot the data to visualize its distribution for each group\n",
    "import matplotlib.pyplot as plt\n",
    "plt.figure(1)\n",
    "plt.plot(range(len(list_house)),list_house)\n",
    "plt.scatter(range(len(list_house)),list_house)\n",
    "plt.xlabel('range')\n",
    "plt.ylabel('Prices')\n",
    "plt.title('Distribution of prices in group:house')\n",
    "plt.figure(2)\n",
    "plt.plot(range(len(list_plot)),list_plot)\n",
    "plt.scatter(range(len(list_plot)),list_plot)\n",
    "plt.xlabel('range')\n",
    "plt.ylabel('Prices')\n",
    "plt.title('Distribution of prices in group:plot')\n",
    "plt.figure(3)\n",
    "plt.plot(range(len(list_app)),list_app)\n",
    "plt.scatter(range(len(list_app)),list_app)\n",
    "plt.xlabel('range')\n",
    "plt.ylabel('Prices')\n",
    "plt.title('Distribution of prices in group:apartment')\n",
    "#We could notice here that we have a high variance in low values\n",
    "'''My approach will be to detect a range of values where \n",
    "the variance along the x axis is highest and consider\n",
    "it as a normal prices and any other ranges under this one is undervalued\n",
    "and of course ay higher range is overvalued'''\n",
    "'''In fact in this case with this dataset , the normal prices are very \n",
    "relative,they depend on each group beause it varies,and as I have this only\n",
    "source information of prices so they could be deduced only from the higher \n",
    "distribution of prices'''\n",
    "#I estimated those limits from the data visualization\n",
    "############Data visualization#################\n",
    "under_range_house=[x for x in list_house if x<=10000]\n",
    "over_range_house=[x for x in list_house if x>=0.75e7]\n",
    "plt.figure(4)\n",
    "plt.scatter(range(len(over_range_house)),over_range_house)\n",
    "plt.xlabel('range')\n",
    "plt.ylabel('Prices')\n",
    "plt.title('Distribution of over_valued prices in group:house')\n",
    "plt.figure(5)\n",
    "plt.scatter(range(len(under_range_house)),under_range_house)\n",
    "plt.xlabel('range')\n",
    "plt.ylabel('Prices')\n",
    "plt.title('Distribution of under_valued prices in group:house')\n",
    "under_range_plot=[x for x in list_plot if x<=200]\n",
    "over_range_plot=[x for x in list_plot if x>=1000]\n",
    "plt.figure(6)\n",
    "plt.scatter(range(len(over_range_plot)),over_range_plot)\n",
    "plt.xlabel('range')\n",
    "plt.ylabel('Prices')\n",
    "plt.title('Distribution of over_valued prices in group:plot')\n",
    "plt.figure(7)\n",
    "plt.scatter(range(len(under_range_plot)),under_range_plot)\n",
    "plt.xlabel('range')\n",
    "plt.ylabel('Prices')\n",
    "plt.title('Distribution of under_valued prices in group:plot')\n",
    "under_range_app=[x for x in list_app if x<=1000]\n",
    "over_range_app=[x for x in list_app if x>=7500]\n",
    "plt.figure(8)\n",
    "plt.scatter(range(len(over_range_app)),over_range_app)\n",
    "plt.xlabel('range')\n",
    "plt.ylabel('Prices')\n",
    "plt.title('Distribution of over_valued prices in group:apartment')\n",
    "plt.figure(9)\n",
    "plt.scatter(range(len(under_range_app)),under_range_app)\n",
    "plt.xlabel('range')\n",
    "plt.ylabel('Prices')\n",
    "plt.title('Distribution of under_valued prices in group:apartment')\n",
    "################End Data visualization##############################\n",
    "\n"
   ]
  },
  {
   "cell_type": "code",
   "execution_count": 16,
   "metadata": {},
   "outputs": [
    {
     "data": {
      "text/html": [
       "<div>\n",
       "<style scoped>\n",
       "    .dataframe tbody tr th:only-of-type {\n",
       "        vertical-align: middle;\n",
       "    }\n",
       "\n",
       "    .dataframe tbody tr th {\n",
       "        vertical-align: top;\n",
       "    }\n",
       "\n",
       "    .dataframe thead th {\n",
       "        text-align: right;\n",
       "    }\n",
       "</style>\n",
       "<table border=\"1\" class=\"dataframe\">\n",
       "  <thead>\n",
       "    <tr style=\"text-align: right;\">\n",
       "      <th></th>\n",
       "      <th>id</th>\n",
       "      <th>type</th>\n",
       "      <th>location_name</th>\n",
       "      <th>groups</th>\n",
       "      <th>price</th>\n",
       "      <th>area</th>\n",
       "      <th>under_valued</th>\n",
       "      <th>over_valued</th>\n",
       "      <th>normal</th>\n",
       "    </tr>\n",
       "  </thead>\n",
       "  <tbody>\n",
       "    <tr>\n",
       "      <th>0</th>\n",
       "      <td>44525</td>\n",
       "      <td>[villa]</td>\n",
       "      <td>[Golden Mile]</td>\n",
       "      <td>houses</td>\n",
       "      <td>4400000</td>\n",
       "      <td>918.0</td>\n",
       "      <td>1</td>\n",
       "      <td>0</td>\n",
       "      <td>0</td>\n",
       "    </tr>\n",
       "    <tr>\n",
       "      <th>1</th>\n",
       "      <td>44859</td>\n",
       "      <td>[Villa]</td>\n",
       "      <td>[Golden Mile, Nagüeles]</td>\n",
       "      <td>houses</td>\n",
       "      <td>2400000</td>\n",
       "      <td>0.0</td>\n",
       "      <td>0</td>\n",
       "      <td>0</td>\n",
       "      <td>1</td>\n",
       "    </tr>\n",
       "    <tr>\n",
       "      <th>2</th>\n",
       "      <td>45465</td>\n",
       "      <td>[villa]</td>\n",
       "      <td>[Nagüeles]</td>\n",
       "      <td>houses</td>\n",
       "      <td>1900000</td>\n",
       "      <td>393.0</td>\n",
       "      <td>1</td>\n",
       "      <td>0</td>\n",
       "      <td>0</td>\n",
       "    </tr>\n",
       "    <tr>\n",
       "      <th>3</th>\n",
       "      <td>50685</td>\n",
       "      <td>[]</td>\n",
       "      <td>[]</td>\n",
       "      <td>[]</td>\n",
       "      <td>4250000</td>\n",
       "      <td>0.0</td>\n",
       "      <td>None</td>\n",
       "      <td>None</td>\n",
       "      <td>None</td>\n",
       "    </tr>\n",
       "    <tr>\n",
       "      <th>4</th>\n",
       "      <td>130728</td>\n",
       "      <td>[Villa]</td>\n",
       "      <td>[Golden Mile]</td>\n",
       "      <td>houses</td>\n",
       "      <td>32000000</td>\n",
       "      <td>4903.0</td>\n",
       "      <td>1</td>\n",
       "      <td>0</td>\n",
       "      <td>0</td>\n",
       "    </tr>\n",
       "  </tbody>\n",
       "</table>\n",
       "</div>"
      ],
      "text/plain": [
       "       id     type            location_name  groups     price    area  \\\n",
       "0   44525  [villa]            [Golden Mile]  houses   4400000   918.0   \n",
       "1   44859  [Villa]  [Golden Mile, Nagüeles]  houses   2400000     0.0   \n",
       "2   45465  [villa]               [Nagüeles]  houses   1900000   393.0   \n",
       "3   50685       []                       []      []   4250000     0.0   \n",
       "4  130728  [Villa]            [Golden Mile]  houses  32000000  4903.0   \n",
       "\n",
       "  under_valued over_valued normal  \n",
       "0            1           0      0  \n",
       "1            0           0      1  \n",
       "2            1           0      0  \n",
       "3         None        None   None  \n",
       "4            1           0      0  "
      ]
     },
     "execution_count": 16,
     "metadata": {},
     "output_type": "execute_result"
    }
   ],
   "source": [
    "#Add the columns of normal , under , over to the dataset\n",
    "under=[]\n",
    "over=[]\n",
    "normal=[]\n",
    "for (x,y,z) in zip(plot_unit_price, app_unit_price,house_unit_price):\n",
    "    if ((x!=0) or (y!=0) or (z!=0)):\n",
    "        if (((x<=200) and (x!=0)) or ((y<=1000) and (y!=0)) or ((z<=10000) and (z!=0))):                       \n",
    "            under.append(1)\n",
    "            over.append(0)\n",
    "            normal.append(0)\n",
    "        elif ((x>=1000 and (x!=0)) or (y>=7500 and (y!=0)) or (z>=0.75e7 and (z!=0))):            \n",
    "            under.append(0)\n",
    "            over.append(1)\n",
    "            normal.append(0)\n",
    "        else:\n",
    "            under.append(0)\n",
    "            over.append(0)\n",
    "            normal.append(1)\n",
    "    else:        \n",
    "        under.append('None')\n",
    "        over.append('None')\n",
    "        normal.append('None')\n",
    "        \n",
    "se1 = pd.Series(under)\n",
    "Dataset['under_valued'] = se1.values\n",
    "se2 = pd.Series(over)\n",
    "Dataset['over_valued'] = se2.values\n",
    "se3 = pd.Series(normal)\n",
    "Dataset['normal'] = se3.values\n",
    "se = pd.Series(area)\n",
    "Dataset['area'] = se.values  \n",
    "'''Dataset=Dataset.drop(['living_area'],axis=1)\n",
    "Dataset=Dataset.drop(['total_area'],axis=1)\n",
    "Dataset=Dataset.drop(['plot_area'],axis=1)\n",
    "Dataset=Dataset.drop(['agent_id'],axis=1)\n",
    "Dataset=Dataset.drop(['created_at'],axis=1)'''\n",
    "Dataset.to_csv('part2.csv')\n",
    "Dataset.head(5)"
   ]
  },
  {
   "cell_type": "markdown",
   "metadata": {
    "colab_type": "text",
    "id": "_m0oYlVUXWqI"
   },
   "source": [
    "####Part 3: Theoretical questions\n",
    "- Mention at least 2 hidden traps you found while solving the problems and what would help you to clean the data set;\n",
    "- Describe in detail how you would evaluate the price impact of features such as sea view, pool and garage considering the dataset provided. Your answer should also include how would you deal with missing values, outliers and duplicated listings (same property listing published by different agencies);\n"
   ]
  },
  {
   "cell_type": "code",
   "execution_count": null,
   "metadata": {
    "colab": {},
    "colab_type": "code",
    "id": "pRh5IOYBvzic"
   },
   "outputs": [],
   "source": [
    "'''\n",
    "Question1:\n",
    "    Trap1:There are some terms in spanish which I should also take in \n",
    "    consideration like (Piscina=pool)\n",
    "    Trap2:The nan fields doesn't work so I should replace it with none to could\n",
    "    work\n",
    "    Trap3:There are some properties with two or more locations\n",
    "    Trap4:When extracting type from title , for example there are some words which\n",
    "    gives the type but it is used in the same text but to say another thing .\n",
    "    This had duplicate informations.\n",
    "    Trap5:There are some words like 'Nagüeles' which is written also as 'Nagueles'\n",
    "    so I considered both of them\n",
    "    Trap6:Problem of lowercase and uppercase I used for this re.IGNORECASE from \n",
    "    regex.\n",
    "    Trap7:Big other problem is the missing values in some columns and that\n",
    "    some informations are not provided.\n",
    "    Trap8: It was very difficult to detect under values from normal values.\n",
    "Question2:\n",
    "    The impact of the features on the price of each group is very clear.\n",
    "    In fact, we could not compare the price of two properties in the same group \n",
    "    while they do not present the same features '''\n",
    "    "
   ]
  },
  {
   "cell_type": "markdown",
   "metadata": {
    "colab_type": "text",
    "id": "WEJZaN7uXaJ4"
   },
   "source": [
    "####Extra challenge 5:\n",
    "- Describe how would you model the data over time (using createdAt field). What changes over time would you look for and what would you expect the outcomes to be? (i.e. in terms of pricing per location/type)"
   ]
  },
  {
   "cell_type": "code",
   "execution_count": null,
   "metadata": {
    "colab": {},
    "colab_type": "code",
    "id": "H63ckTpFr-5_"
   },
   "outputs": [],
   "source": []
  },
  {
   "cell_type": "code",
   "execution_count": null,
   "metadata": {},
   "outputs": [],
   "source": []
  },
  {
   "cell_type": "code",
   "execution_count": null,
   "metadata": {},
   "outputs": [],
   "source": []
  },
  {
   "cell_type": "code",
   "execution_count": null,
   "metadata": {},
   "outputs": [],
   "source": []
  }
 ],
 "metadata": {
  "colab": {
   "collapsed_sections": [],
   "name": "CasafariTest_DataScientist.ipynb",
   "provenance": [],
   "toc_visible": true,
   "version": "0.3.2"
  },
  "kernelspec": {
   "display_name": "Python 3",
   "language": "python",
   "name": "python3"
  },
  "language_info": {
   "codemirror_mode": {
    "name": "ipython",
    "version": 3
   },
   "file_extension": ".py",
   "mimetype": "text/x-python",
   "name": "python",
   "nbconvert_exporter": "python",
   "pygments_lexer": "ipython3",
   "version": "3.6.6"
  }
 },
 "nbformat": 4,
 "nbformat_minor": 2
}
